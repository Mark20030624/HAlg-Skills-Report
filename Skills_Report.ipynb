{
 "cells": [
  {
   "cell_type": "markdown",
   "id": "873c5ef6",
   "metadata": {},
   "source": [
    "## Skills Report: Determinants\n",
    "This report will explore the determinant of a matrix and the rules for claculating the determinant."
   ]
  },
  {
   "cell_type": "markdown",
   "id": "09193d54",
   "metadata": {},
   "source": [
    "At this point, the determinant has been used in a variety of applications and has a fairly simple definition which for large matrices becomes difficult to calculate by hand."
   ]
  },
  {
   "cell_type": "markdown",
   "id": "bcdd36bc",
   "metadata": {},
   "source": [
    "For a $2 \\times 2$ matrix \n",
    "$$M = \\begin{pmatrix} a & b \\\\ c & d \\end{pmatrix}$$ \n",
    "the determinant is given by\n",
    "$$\\det(M) = ad-bc.$$\n",
    "An example is given in the cell below."
   ]
  },
  {
   "cell_type": "code",
   "execution_count": null,
   "id": "9c1e8dd8",
   "metadata": {},
   "outputs": [],
   "source": [
    "A= Matrix(QQ,2,[1,2,3,4])\n",
    "print(\"A = \")\n",
    "pretty_print(A)\n",
    "print(\"det(A) =\", A.det(), \"= (1)(4) - (2)(3)\")"
   ]
  },
  {
   "attachments": {},
   "cell_type": "markdown",
   "id": "45565eb1",
   "metadata": {},
   "source": [
    "The definition for the determinant of a matrix in two or three dimensions is fairly well-known, using this, the definition can be applied to matrices of higher dimension as follows.\n",
    "\n",
    "Let $A$ be an $n \\times m$ matrix, then\n",
    "\n",
    "$$\\det{A} = \\sum_{i=1}^{n} (-1)^{i+j} a_{ij} \\det{(A \\langle i,j \\rangle)} = \\sum_{j=1}^{m} (-1)^{i+j} a_{ij} \\det{(A \\langle i,j \\rangle)}.$$\n",
    "\n",
    "\n",
    "The submatrix $A \\langle i,j \\rangle$ is obtained by eliminating the $i$-th row and the $j$-th column from the matrix $A$. \n",
    "Therefore, if $\\dim{A} = n$ then $$\\dim{(A \\langle i,j \\rangle)} = n-1.$$\n",
    "\n",
    "Note that the determinant of a $1 \\times 1$ matrix is just whatever value is being stored in it, for example, $\\det(1) = 1$. This means if we don't know $\\det{(A \\langle i,j \\rangle)}$ we can just apply this definition again to $\\det{(A \\langle i,j \\rangle)}$ until we reach a $1 \\times 1$ matrix or a $2 \\times 2$ matrix, which we already know how to calculate. Notice that we have given two seperate sums here, one iterates along $i$, which represents a column of $A$, and one that iterates along $j$, which represents a row of $A$. In both sums we choose the row/colum ourselves, i.e. we decide the value of $i$ or $j$, whichever isn't being iterated.\n",
    "\n",
    "As an example, lets calculate the determinant of the following matrix:"
   ]
  },
  {
   "cell_type": "code",
   "execution_count": null,
   "id": "0626bd87",
   "metadata": {},
   "outputs": [],
   "source": [
    "M = Matrix([[8, 0, 5],[1, 4, 7], [9, 3, 2]])\n",
    "pretty_print(M)"
   ]
  },
  {
   "attachments": {},
   "cell_type": "markdown",
   "id": "352183a3",
   "metadata": {},
   "source": [
    "First, we need to decide which row/column we are iterating along. I'm going to use the first row, so fix $i=1$ and we iterate along $j$. \n",
    "\n",
    "Notice that when $j=2$ we have:"
   ]
  },
  {
   "cell_type": "code",
   "execution_count": null,
   "id": "5f050880",
   "metadata": {},
   "outputs": [],
   "source": [
    "i = 1\n",
    "j = 2\n",
    "# Sage starts counting entries at 0 instead of 1 like we do, so we need to subtract 1 from i and j to get the correct entry\n",
    "M[i-1, j-1] "
   ]
  },
  {
   "attachments": {},
   "cell_type": "markdown",
   "id": "90295200",
   "metadata": {},
   "source": [
    "This means that the term of the sum when $j=2$ will be\n",
    "\n",
    "$$\\begin{align*}\n",
    "\\begin{split}\n",
    "(-1)^{1+2} m_{12} \\det{(M \\langle 1,2 \\rangle)} &= (-1)^{3} \\cdot 0 \\cdot \\det{(M \\langle 1,2 \\rangle)}\\\\\n",
    "&= 0,\n",
    "\\end{split}\n",
    "\\end{align*}$$\n",
    "\n",
    "Thus, we don't need to worry about that term. Next, we need to find values for $\\det(M\\langle 1,1 \\rangle)$ and $\\det(M\\langle 1,3 \\rangle)$. Recall $M\\langle i,j \\rangle$ is the sub-matrix obtained by removing the $i$-th and $j$-th column of $M$, so \n",
    "\n",
    "$$\\begin{gather*}\n",
    "M\\langle 1,1 \\rangle  = \\begin{pmatrix} {\\color{red}8} & {\\color{red}0} & {\\color{red}5} \\\\ {\\color{red}1} & 4 & 7 \\\\ {\\color{red}9} & 3 & 2 \\end{pmatrix} = \\begin{pmatrix}  4 & 7 \\\\  3 & 2 \\end{pmatrix} \\\\\n",
    "M\\langle 1,3 \\rangle  = \\begin{pmatrix} {\\color{red}8} & {\\color{red}0} & {\\color{red}5} \\\\ 1 & 4 & {\\color{red}7} \\\\ 9 & 3 & {\\color{red}2} \\end{pmatrix} = \\begin{pmatrix} 1 & 4 \\\\ 9 & 3 \\end{pmatrix}\n",
    "\\end{gather*}$$\n",
    "\n",
    "We have seen how to calculate the determinant of $2 \\times 2$ matrices, so we now have everything we need to calculate the determinant of $M$."
   ]
  },
  {
   "cell_type": "code",
   "execution_count": null,
   "id": "0e16ff28",
   "metadata": {},
   "outputs": [],
   "source": [
    "M11 = Matrix([[4, 7], [3, 2]])\n",
    "M13 = Matrix([[1, 4], [9, 3]])\n",
    "det = (-1)^(1+1)*M[1-1, 1-1,]*M11.determinant() + 0 + (-1)^(1+3)*M[1-1, 3-1,]*M13.determinant()\n",
    "print(det)\n",
    "assert det == M.determinant()"
   ]
  },
  {
   "cell_type": "markdown",
   "id": "9f0777ce",
   "metadata": {},
   "source": [
    "<div class=\"alert alert-info\">\n",
    "    <h3>Exercise 1.1</h3><span class=\"label label-primary\">(non-assessed)</span>\n",
    "    Suppose there exists a matrix $A$ which is upper triangular, write a function to calculate the determinant of $A$, without using the built-in method.\n",
    "    A matrix is upper triangular if for all $i>j$, $A_{ij} = 0$."
   ]
  },
  {
   "cell_type": "code",
   "execution_count": null,
   "id": "7aba02d6",
   "metadata": {},
   "outputs": [],
   "source": [
    "def TriDet(A):\n",
    "    \"\"\"Write a function which calculates the determinant of an upper triangular matrix\n",
    "    You do not have to check that the matrix is upper triangular.\"\"\"\n",
    "    raise NotImplementedError()"
   ]
  },
  {
   "cell_type": "code",
   "execution_count": null,
   "id": "f8ccddf5",
   "metadata": {},
   "outputs": [],
   "source": []
  },
  {
   "cell_type": "markdown",
   "id": "c366339f",
   "metadata": {},
   "source": []
  },
  {
   "attachments": {},
   "cell_type": "markdown",
   "id": "5c115301",
   "metadata": {},
   "source": [
    "Thhe co-factor of a matrix is defined as follows:\n",
    "\\begin{equation*}\n",
    "C_{ij} = (-1)^{i+j} \\det{(A\\langle i,j \\rangle)}\n",
    "\\end{equation*}"
   ]
  },
  {
   "cell_type": "markdown",
   "id": "d30ac3b8",
   "metadata": {},
   "source": [
    "<div class=\"alert alert-info\">\n",
    "    <h3>Exercise 1.2</h3><span class=\"label label-primary\">(non-assessed)</span>\n",
    "    Define a function to calculate the co-factor using a recursive methods. "
   ]
  },
  {
   "cell_type": "code",
   "execution_count": null,
   "id": "6c0d796b",
   "metadata": {},
   "outputs": [],
   "source": [
    "def Cofactor(A, i, j):\n",
    "    \"\"\"Write a function which calculates the co-factor of a matrix.\"\"\"\n",
    "    raise NotImplementedError()"
   ]
  },
  {
   "attachments": {},
   "cell_type": "markdown",
   "id": "ba493d0c",
   "metadata": {},
   "source": [
    "The adjugate of a matrix $A$ is given by $adj(A)$, where \n",
    "\\begin{equation*}\n",
    "adj(A)_{ij} = C_{ji}\n",
    "\\end{equation*}"
   ]
  },
  {
   "cell_type": "markdown",
   "id": "cd3bd43b",
   "metadata": {},
   "source": [
    "<div class=\"alert alert-info\">\n",
    "    <h3>Exercise 1.3</h3><span class=\"label label-primary\">(non-assessed)</span>\n",
    "    Define a function to calculate the adjugate of a matrix. "
   ]
  },
  {
   "cell_type": "code",
   "execution_count": null,
   "id": "e0d79d56",
   "metadata": {},
   "outputs": [],
   "source": [
    "def Adjugate(A):\n",
    "    \"\"\"Write a function which calculates the adjugate of a matrix\"\"\"\n",
    "    raise NotImplementedError()"
   ]
  },
  {
   "cell_type": "markdown",
   "id": "0196a7bd",
   "metadata": {},
   "source": []
  },
  {
   "attachments": {},
   "cell_type": "markdown",
   "id": "9806e241",
   "metadata": {},
   "source": [
    "The term adjugate may sound familiar, or you may already be so used to calculating inverses that you don't even consider it. However, the inverse of a matrix is given by the following.\n",
    "<br>\n",
    "\\begin{equation*}\n",
    "\\mathbf{A}^{-1} = \\frac{1}{\\det{(\\mathbf{A})}} adj{(\\mathbf{A})}.\n",
    "\\end{equation*}\n",
    "<br>\n",
    "This is derived from Cramer's Rule which states the following:\n",
    "<br>\n",
    "\\begin{equation*}\n",
    "\\mathbf{A} \\cdot adj(\\mathbf{A}) = \\det{(\\mathbf{A})} I.\n",
    "\\end{equation*}"
   ]
  },
  {
   "attachments": {},
   "cell_type": "markdown",
   "id": "01cc06ab",
   "metadata": {},
   "source": [
    "Let us now consider the proof of this rule. First, consider entries on the leading diagonal:\n",
    "<br>\n",
    "\\begin{align*}\n",
    "\\begin{split}\n",
    "\\left(\\mathbf{A} \\cdot adj(\\mathbf{A}) \\right)_{ii} &= \\sum_{j=1}^{n} \\mathbf{A}_{ij} \\cdot adj(\\mathbf{A})_{ji}\\\\ \n",
    "&= \\sum_{j=1}^{n} \\mathbf{A}_{ij} \\cdot C_{ij}\\\\ \n",
    "&= \\det{(\\mathbf{A})}\n",
    "\\end{split}\n",
    "\\end{align*}\n",
    "<br>\n",
    "The next exercise involves the rest of the proof."
   ]
  },
  {
   "cell_type": "markdown",
   "id": "ce0de019",
   "metadata": {},
   "source": [
    "<div class=\"alert alert-info\">\n",
    "    <h3>Exercise 1.4</h3><span class=\"label label-primary\">(non-assessed)</span>\n",
    "    Prove that for $i\\neq j$, $\\left(\\mathbf{A} \\cdot adj(\\mathbf{A}) \\right)_{ij} = 0$."
   ]
  },
  {
   "cell_type": "markdown",
   "id": "840deee8",
   "metadata": {},
   "source": []
  },
  {
   "attachments": {},
   "cell_type": "markdown",
   "id": "5b77b3a5",
   "metadata": {},
   "source": [
    "<div class=\"alert alert-info\">\n",
    "    <h3>Exercise 1.5</h3><span class=\"label label-primary\">(non-assessed)</span>\n",
    "    Using the information given and the functions you have defined, define a function to calculate the inverse of a matrix without using the in-built functions."
   ]
  },
  {
   "cell_type": "code",
   "execution_count": 1,
   "id": "c0b56ad5",
   "metadata": {},
   "outputs": [],
   "source": [
    "def Det(A):\n",
    "    \"\"\"Create a function to calculate the inverse of a matrix without using the in-built functions.\"\"\"\n",
    "    raise NotImplementedError()"
   ]
  },
  {
   "cell_type": "markdown",
   "id": "42619345",
   "metadata": {},
   "source": [
    "# Solutions"
   ]
  },
  {
   "cell_type": "code",
   "execution_count": null,
   "id": "62b5b65b",
   "metadata": {},
   "outputs": [],
   "source": [
    "def TriDet(A):\n",
    "    \"\"\"Write a function which calculates the determinant of an upper triangular matrix\n",
    "    You do not have to check that the matrix is upper triangular.\"\"\"\n",
    "    n = A.dimensions()[0] # An upper triangular matrix is always square, so will have dimensions n x n. Therefore it doesn't matter which dimension we pick\n",
    "    det = 1\n",
    "    for i in range(n): \n",
    "        det = det*A[i,i] #the determinant is the product of the entries along the diagonal\n",
    "\n",
    "    return det\n",
    "\n",
    "A = Matrix([[1,2],[0,4]])\n",
    "assert TriDet(A) == A.determinant()"
   ]
  },
  {
   "cell_type": "code",
   "execution_count": null,
   "id": "2197b078",
   "metadata": {},
   "outputs": [],
   "source": []
  }
 ],
 "metadata": {
  "kernelspec": {
   "display_name": "SageMath 9.1",
   "language": "sage",
   "name": "sagemath"
  },
  "language_info": {
   "codemirror_mode": {
    "name": "ipython",
    "version": 3
   },
   "file_extension": ".py",
   "mimetype": "text/x-python",
   "name": "python",
   "nbconvert_exporter": "python",
   "pygments_lexer": "ipython3",
   "version": "3.7.3"
  }
 },
 "nbformat": 4,
 "nbformat_minor": 5
}
