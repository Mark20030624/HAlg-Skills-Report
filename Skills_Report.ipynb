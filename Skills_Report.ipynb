{
 "cells": [
  {
   "cell_type": "markdown",
   "id": "873c5ef6",
   "metadata": {},
   "source": [
    "## Skills Report: Determinants\n",
    "This report will explore the determinant of a matrix and the rules for claculating the determinant."
   ]
  },
  {
   "cell_type": "markdown",
   "id": "09193d54",
   "metadata": {},
   "source": [
    "At this point, the determinant has been used in a variety of applications and has a fairly simple definition which for large matrices becomes difficult to calculate by hand."
   ]
  },
  {
   "cell_type": "code",
   "execution_count": 8,
   "id": "9c1e8dd8",
   "metadata": {},
   "outputs": [
    {
     "name": "stdout",
     "output_type": "stream",
     "text": [
      "A = \n",
      "[1 2]\n",
      "[3 4]\n",
      "det(A) =  -2  = (1)(4) - (2)(3)\n"
     ]
    }
   ],
   "source": [
    "A= Matrix(QQ,2,[1,2,3,4])\n",
    "print(\"A = \")\n",
    "print(A)\n",
    "print(\"det(A) = \", A.det(), \" = (1)(4) - (2)(3)\")"
   ]
  },
  {
   "cell_type": "markdown",
   "id": "45565eb1",
   "metadata": {},
   "source": [
    "The definition for the determinant of a matrix in two or three dimensions is fairly well-known, using this, the definition can be applied to matices of higher dimension as follows.\n",
    "<br>\n",
    "$\\det{A} = \\sum_{i=1}^{n} (-1)^{i+j} a_{ij} \\det{(A \\langle i,j \\rangle)} = \\sum_{j=1}^{n} (-1)^{i+j} a_{ij} \\det{(A \\langle i,j \\rangle)}$.\n",
    "<br>\n",
    "The matrix $A \\langle i,j \\rangle)$ is obtained by eliminating the i-th row and the j-th column from the matrix $A$, therefore if $\\dim{A} = n$ then $\\dim{A \\langle i,j \\rangle)} = n-1$. This definition can be applied to matrices with dimension $\\geq 2$ and $det{(A)} = A$ for $\\dim{(A)} = 1$"
   ]
  },
  {
   "cell_type": "markdown",
   "id": "9f0777ce",
   "metadata": {},
   "source": [
    "<div class=\"alert alert-info\">\n",
    "    <h3>Exercise 1.1</h3><span class=\"label label-primary\">(non-assessed)</span>\n",
    "    Suppose there exists a matrix $A$ which is upper triangular, write a function to calculate the determinant of $A$, without using the built-in method.\n",
    "    A matrix is upper triangular if for all $i>j$, $A_{ij} = 0$."
   ]
  },
  {
   "cell_type": "code",
   "execution_count": 8,
   "id": "7aba02d6",
   "metadata": {},
   "outputs": [],
   "source": [
    "def TriDet(A):\n",
    "    \"Write a function which calculates the determinant of an upper triangular matrix\"\n",
    "    \"You do not have to check that the matrix is upper triangular.\"\n",
    "    raise NotImplementedError"
   ]
  },
  {
   "cell_type": "code",
   "execution_count": null,
   "id": "f8ccddf5",
   "metadata": {},
   "outputs": [],
   "source": []
  },
  {
   "attachments": {},
   "cell_type": "markdown",
   "id": "d30ac3b8",
   "metadata": {},
   "source": [
    "<div class=\"alert alert-info\">\n",
    "    <h3>Exercise 1.2</h3><span class=\"label label-primary\">(non-assessed)</span>\n",
    "    Define a function to calculate the co-factor. "
   ]
  }
 ],
 "metadata": {
  "kernelspec": {
   "display_name": "SageMath 9.1",
   "language": "sage",
   "name": "sagemath"
  },
  "language_info": {
   "codemirror_mode": {
    "name": "ipython",
    "version": 3
   },
   "file_extension": ".py",
   "mimetype": "text/x-python",
   "name": "python",
   "nbconvert_exporter": "python",
   "pygments_lexer": "ipython3",
   "version": "3.7.3"
  }
 },
 "nbformat": 4,
 "nbformat_minor": 5
}
