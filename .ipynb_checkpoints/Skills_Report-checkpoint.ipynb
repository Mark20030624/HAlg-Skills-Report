{
 "cells": [
  {
   "cell_type": "markdown",
   "id": "873c5ef6",
   "metadata": {},
   "source": [
    "## Skills Report: Determinants\n",
    "This report will explore the determinant of a matrix and the rules for claculating the determinant."
   ]
  },
  {
   "cell_type": "markdown",
   "id": "09193d54",
   "metadata": {},
   "source": [
    "At this point, the determinant has been used in a variety of applications and has a fairly simple definition which for large matrices becomes difficult to calculate by hand."
   ]
  },
  {
   "cell_type": "markdown",
   "id": "bcdd36bc",
   "metadata": {},
   "source": [
    "For a $2 \\times 2$ matrix \n",
    "$$M = \\begin{pmatrix} a & b \\\\ c & d \\end{pmatrix}$$ \n",
    "the determinant is given by\n",
    "$$\\det(M) = ad-bc.$$\n",
    "An example is given in the cell below."
   ]
  },
  {
   "cell_type": "code",
   "execution_count": 9,
   "id": "9c1e8dd8",
   "metadata": {},
   "outputs": [
    {
     "name": "stdout",
     "output_type": "stream",
     "text": [
      "A = \n"
     ]
    },
    {
     "data": {
      "text/html": [
       "<html>\\(\\displaystyle \\left(\\begin{array}{rr}\n",
       "1 & 2 \\\\\n",
       "3 & 4\n",
       "\\end{array}\\right)\\)</html>"
      ],
      "text/latex": [
       "$\\displaystyle \\left(\\begin{array}{rr}\n",
       "1 & 2 \\\\\n",
       "3 & 4\n",
       "\\end{array}\\right)$"
      ],
      "text/plain": [
       "[1 2]\n",
       "[3 4]"
      ]
     },
     "metadata": {},
     "output_type": "display_data"
    },
    {
     "name": "stdout",
     "output_type": "stream",
     "text": [
      "det(A) = -2 = (1)(4) - (2)(3)\n"
     ]
    }
   ],
   "source": [
    "A= Matrix(QQ,2,[1,2,3,4])\n",
    "print(\"A = \")\n",
    "pretty_print(A)\n",
    "print(\"det(A) =\", A.det(), \"= (1)(4) - (2)(3)\")"
   ]
  },
  {
   "cell_type": "markdown",
   "id": "45565eb1",
   "metadata": {},
   "source": [
    "The definition for the determinant of a matrix in two or three dimensions is fairly well-known, using this, the definition can be applied to matrices of higher dimension as follows.\n",
    "\n",
    "Let $A$ be an $n \\times m$ matrix, then\n",
    "\n",
    "$$\\det{A} = \\sum_{i=1}^{n} (-1)^{i+j} a_{ij} \\det{(A \\langle i,j \\rangle)} = \\sum_{j=1}^{m} (-1)^{i+j} a_{ij} \\det{(A \\langle i,j \\rangle)}.$$\n",
    "\n",
    "\n",
    "The matrix $A \\langle i,j \\rangle$ is obtained by eliminating the $i$-th row and the $j$-th column from the matrix $A$, therefore if $\\dim{A} = n$ then $\\dim{(A \\langle i,j \\rangle)} = n-1$. Note that the determinant of a $1 \\times 1$ matrix is just whatever value is being stored in it, for example, $\\det(1) = 1$. This means if we don't know $\\det{(A \\langle i,j \\rangle)}$ we can just apply this definition again to $\\det{(A \\langle i,j \\rangle)}$ until we reach a $1 \\times 1$ matrix or a $2 \\times 2$ matrix, which we already know how to calculate. Also notice that we have given two seperate sums here, one iterates along $i$, so is iterating along a column of $A$, and one that iterates along $j$, so iterating along a row of $A$. In both sums we choose the row/colum ourselves, i.e. we decide the value of $i$ or $j$ - whichever isn't being iterated - ourselves.\n",
    "\n",
    "As an example, let us calculate the determinant of $M$ as defined above using this method, and check it matches the definition we already have. We'll iterate along $j$, and fix $i = 1$. \n",
    "\n",
    "$$\\begin{align*} \n",
    "\\det{M} &= \\sum_{j=1}^{2} (-1)^{i+j} m_{ij} \\det{(M \\langle i,j \\rangle)} \\\\\n",
    "&= \\sum_{j=1}^{2} (-1)^{1+j} m_{1j} \\det{(M \\langle 1,j \\rangle)} \\\\\n",
    "&= (-1)^{1+1} m_{11} \\det{(M \\langle 1,1 \\rangle)} +(-1)^{1+2} m_{12} \\det{(M \\langle 1,2 \\rangle)} \\\\\n",
    "&= (-1)^{2} a \\det{(d)} +(-1)^{1+2} b \\det{(c)} \\\\\n",
    "&= a d -b c,\n",
    "\\end{align*}$$\n",
    "which does indeed match."
   ]
  },
  {
   "cell_type": "markdown",
   "id": "9f0777ce",
   "metadata": {},
   "source": [
    "<div class=\"alert alert-info\">\n",
    "    <h3>Exercise 1.1</h3><span class=\"label label-primary\">(non-assessed)</span>\n",
    "    Suppose there exists a matrix $A$ which is upper triangular, write a function to calculate the determinant of $A$, without using the built-in method.\n",
    "    A matrix is upper triangular if for all $i>j$, $A_{ij} = 0$."
   ]
  },
  {
   "cell_type": "code",
   "execution_count": 13,
   "id": "7aba02d6",
   "metadata": {},
   "outputs": [],
   "source": [
    "def TriDet(A):\n",
    "    \"\"\"Write a function which calculates the determinant of an upper triangular matrix\n",
    "    You do not have to check that the matrix is upper triangular.\"\"\"\n",
    "    raise NotImplementedError()"
   ]
  },
  {
   "cell_type": "code",
   "execution_count": null,
   "id": "f8ccddf5",
   "metadata": {},
   "outputs": [],
   "source": []
  },
  {
   "cell_type": "markdown",
   "id": "c366339f",
   "metadata": {},
   "source": []
  },
  {
   "cell_type": "markdown",
   "id": "d30ac3b8",
   "metadata": {},
   "source": [
    "<div class=\"alert alert-info\">\n",
    "    <h3>Exercise 1.2</h3><span class=\"label label-primary\">(non-assessed)</span>\n",
    "    Define a function to calculate the co-factor. "
   ]
  },
  {
   "cell_type": "code",
   "execution_count": null,
   "id": "6c0d796b",
   "metadata": {},
   "outputs": [],
   "source": [
    "def Cofactor(A, i, j):\n",
    "    \"\"\"Write a function which calculates the co-factor of a matrix.\"\"\"\n",
    "    raise NotImplementedError()"
   ]
  },
  {
   "cell_type": "markdown",
   "id": "42619345",
   "metadata": {},
   "source": [
    "# Solutions"
   ]
  },
  {
   "cell_type": "code",
   "execution_count": 22,
   "id": "62b5b65b",
   "metadata": {},
   "outputs": [],
   "source": [
    "def TriDet(A):\n",
    "    \"\"\"Write a function which calculates the determinant of an upper triangular matrix\n",
    "    You do not have to check that the matrix is upper triangular.\"\"\"\n",
    "    n = A.dimensions()[0] # An upper triangular matrix is always square, so will have dimensions n x n. Therefore it doesn't matter which dimension we pick\n",
    "    det = 1\n",
    "    for i in range(n): \n",
    "        det = det*A[i,i] #the determinant is the product of the entries along the diagonal\n",
    "\n",
    "    return det\n",
    "\n",
    "A = Matrix([[1,2],[0,4]])\n",
    "assert TriDet(A) == A.determinant()"
   ]
  },
  {
   "cell_type": "code",
   "execution_count": null,
   "id": "2197b078",
   "metadata": {},
   "outputs": [],
   "source": []
  }
 ],
 "metadata": {
  "kernelspec": {
   "display_name": "SageMath 9.8",
   "language": "sage",
   "name": "sagemath-9.8"
  },
  "language_info": {
   "codemirror_mode": {
    "name": "ipython",
    "version": 3
   },
   "file_extension": ".py",
   "mimetype": "text/x-python",
   "name": "python",
   "nbconvert_exporter": "python",
   "pygments_lexer": "ipython3",
   "version": "3.11.1"
  }
 },
 "nbformat": 4,
 "nbformat_minor": 5
}
